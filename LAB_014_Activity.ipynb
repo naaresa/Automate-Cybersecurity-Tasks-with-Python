{
 "cells": [
  {
   "cell_type": "markdown",
   "metadata": {
    "id": "wFcD0whLvLTP"
   },
   "source": [
    "# Activity: Debug Python Code"
   ]
  },
  {
   "cell_type": "markdown",
   "metadata": {
    "id": "ivt8p77hCKcO"
   },
   "source": [
    "## Introduction\n",
    "\n",
    "One of the biggest challenges faced by analysts is ensuring that automated processes run smoothly. Debugging is an important practice that security analysts incorporate in their work to identify errors in code and resolve them so that the code achieves the desired outcome. \n",
    "\n",
    "Through a series of tasks in this lab, you'll develop and apply your debugging skills in Python."
   ]
  },
  {
   "cell_type": "markdown",
   "metadata": {
    "id": "eW4pA4LsC-vb"
   },
   "source": [
    "<details><summary><h2>Tips for completing this lab</h2></summary>\n",
    "\n",
    "As you navigate this lab, keep the following tips in mind:\n",
    "\n",
    "- `### YOUR CODE HERE ###` indicates where you should write code. Be sure to replace this with your own code before running the code cell.\n",
    "- Feel free to open the hints for additional guidance as you work on each task. \n",
    "- To enter your answer to a question, double-click the markdown cell to edit. Be sure to replace the \"[Double-click to enter your responses here.]\" with your own answer.\n",
    "- You can save your work manually by clicking File and then Save in the menu bar at the top of the notebook. \n",
    "- You can download your work locally by clicking File and then Download and then specifying your preferred file format in the menu bar at the top of the notebook. \n",
    "</details>"
   ]
  },
  {
   "cell_type": "markdown",
   "metadata": {
    "id": "A8q3M1L7isIj"
   },
   "source": [
    "## Scenario\n",
    "\n",
    "In your work as a security analyst, you need to apply debugging strategies to ensure your code works properly.\n",
    "\n",
    "Throughout this lab, you'll work with code that is similar to what you've written before, but now it has some errors that need to be fixed. You'll need to read code cells, run them, identify the errors, and adjust the code to resolve the errors."
   ]
  },
  {
   "cell_type": "markdown",
   "metadata": {
    "id": "ytgkadfzRQE5"
   },
   "source": [
    "## Task 1\n",
    "\n",
    "The following code cell contains a syntax error. In this task, you'll run the code, identify why the error is occuring, and modify the code to resolve it. (To ensure that it has been resolved, run the code again to check if it now functions properly.)"
   ]
  },
  {
   "cell_type": "code",
   "execution_count": 2,
   "metadata": {
    "id": "_Ts_iS8EWZvs"
   },
   "outputs": [
    {
     "name": "stdout",
     "output_type": "stream",
     "text": [
      "Connection cannot be established\n",
      "Connection cannot be established\n",
      "Connection cannot be established\n",
      "Connection cannot be established\n",
      "Connection cannot be established\n",
      "Connection cannot be established\n",
      "Connection cannot be established\n",
      "Connection cannot be established\n",
      "Connection cannot be established\n",
      "Connection cannot be established\n"
     ]
    }
   ],
   "source": [
    "# For loop that iterates over a range of numbers\n",
    "# and displays a message each iteration\n",
    "\n",
    "for i in range(10):\n",
    "    print(\"Connection cannot be established\")"
   ]
  },
  {
   "cell_type": "markdown",
   "metadata": {
    "id": "_OJCHm00RiSk"
   },
   "source": [
    "## Task 2\n",
    "In the following code cell, you're provided a list of usernames. There is an issue with the syntax. In this task, you'll run the cell, observe what happens, and modify the code to fix the issue."
   ]
  },
  {
   "cell_type": "code",
   "execution_count": 4,
   "metadata": {
    "id": "Juc9sShCQdt6"
   },
   "outputs": [
    {
     "name": "stdout",
     "output_type": "stream",
     "text": [
      "['djames', 'jpark', 'tbailey', 'zdutchma', 'esmith', 'srobinso', 'dcoleman', 'fbautist']\n"
     ]
    }
   ],
   "source": [
    "# Assign `usernames_list` to a list of usernames\n",
    "\n",
    "usernames_list = [\"djames\", \"jpark\", \"tbailey\", \"zdutchma\", \"esmith\", \"srobinso\", \"dcoleman\", \"fbautist\"]\n",
    "\n",
    "# Display `usernames_list`\n",
    "\n",
    "print(usernames_list)"
   ]
  },
  {
   "cell_type": "markdown",
   "metadata": {
    "id": "foJ_J8Cg5T7p"
   },
   "source": [
    "## Task 3\n",
    "In the following code cell, there is a syntax error. Your task is to run the cell, identify what is causing the error, and fix it."
   ]
  },
  {
   "cell_type": "code",
   "execution_count": 6,
   "metadata": {
    "id": "GMBNs-7BRvKl"
   },
   "outputs": [
    {
     "name": "stdout",
     "output_type": "stream",
     "text": [
      "UPDATE NEEDED\n"
     ]
    }
   ],
   "source": [
    "# Display a message in upper case \n",
    "\n",
    "print(\"update needed\".upper())"
   ]
  },
  {
   "cell_type": "markdown",
   "metadata": {
    "id": "OJ7d7WFy5VL_"
   },
   "source": [
    "## Task 4\n",
    "In the following code cell, you're provided a `usernames_list`, a `username`, and code that determines whether the username is approved. There are two syntax errors and one exception. Your task is to find them and fix the code. A helpful debugging strategy is to focus on one error at a time and run the code after fixing each one."
   ]
  },
  {
   "cell_type": "code",
   "execution_count": 10,
   "metadata": {
    "id": "Vx5AdI-8XNCI"
   },
   "outputs": [
    {
     "name": "stdout",
     "output_type": "stream",
     "text": [
      "The user is an approved user\n"
     ]
    }
   ],
   "source": [
    "# Assign `usernames_list` to a list of usernames that represent approved users\n",
    "\n",
    "usernames_list = [\"djames\", \"jpark\", \"tbailey\", \"zdutchma\", \"esmith\", \"srobinso\", \"dcoleman\", \"fbautist\"]\n",
    "\n",
    "# Assign `username` to a specific username \n",
    "\n",
    "username = \"esmith\"\n",
    "\n",
    "# For loop that iterates over the elements of `usernames_list` and determines whether each element corresponds to an approved user\n",
    "\n",
    "for name in usernames_list:\n",
    "\n",
    "    # Check if `name` matches `username` \n",
    "    # If it does match, then display a message accordingly \n",
    "\n",
    "    if name in username:\n",
    "        print(\"The user is an approved user\")"
   ]
  },
  {
   "cell_type": "markdown",
   "metadata": {
    "id": "l302EqWo5XLF"
   },
   "source": [
    "## Task 5\n",
    "\n",
    "In this task, you'll examine the following code and identify the type of error that occurs. Then, you'll adjust the code to fix the error."
   ]
  },
  {
   "cell_type": "code",
   "execution_count": null,
   "metadata": {
    "id": "rHQMQuH7bVLg"
   },
   "outputs": [],
   "source": [
    "# Assign `usernames_list` to a list of usernames\n",
    "\n",
    "usernames_list = [\"elarson\", \"bmoreno\", \"tshah\", \"sgilmore\", \"eraab\"]\n",
    "\n",
    "# Assign `username` to a specific username\n",
    "\n",
    "username = \"eraab\"\n",
    "\n",
    "# Determine whether `username` is the final username in `usernames_list` \n",
    "# If it is, then display a message accordingly \n",
    "\n",
    "if username == usernames_list[5]:\n",
    "    print(\"This username is the final one in the list.\")"
   ]
  },
  {
   "cell_type": "markdown",
   "metadata": {
    "id": "DrEsqF4udQqm"
   },
   "source": [
    "## Task 6\n",
    "In this task, you'll examine the following code. The code imports a text file into Python, reads its contents, and stores the contents as a list in a variable named `ip_addresses`. It then removes elements from `ip_addresses` if they are in `remove_list`. There are two errors in the code: first a syntax error and then an exception related to a string method. Your goal is to find these errors and fix them."
   ]
  },
  {
   "cell_type": "code",
   "execution_count": 13,
   "metadata": {
    "id": "Qm3VwuiolGOC"
   },
   "outputs": [
    {
     "name": "stdout",
     "output_type": "stream",
     "text": [
      "['ip_address', '192.168.25.60', '192.168.205.12', '192.168.6.9', '192.168.52.90', '192.168.90.124', '192.168.186.176', '192.168.133.188', '192.168.203.198', '192.168.218.219', '192.168.52.37', '192.168.156.224', '192.168.60.153', '192.168.69.116']\n"
     ]
    }
   ],
   "source": [
    "# Assign `import_file` to the name of the text file\n",
    "\n",
    "import_file = \"allow_list.txt\"\n",
    "\n",
    "# Assign `remove_list` to a list of IP addressess that are no longer allowed to access the network \n",
    "\n",
    "remove_list = [\"192.168.97.225\", \"192.168.158.170\", \"192.168.201.40\", \"192.168.58.57\"]\n",
    "\n",
    "# With statement that reads in the text file and stores its contents as a list in `ip_addresses` \n",
    "\n",
    "with open(import_file, \"r\") as file:\n",
    "    ip_addresses = file.read()\n",
    "\n",
    "# Convert `ip_addresses` from a string to a list\n",
    "\n",
    "ip_addresses = ip_addresses.split()\n",
    "\n",
    "# For loop that iterates over the elements in `remove_list`,\n",
    "# checks if each element is in `ip_addresses`,\n",
    "# and removes each element that corresponds to an IP address that is no longer allowed\n",
    "\n",
    "for element in remove_list:\n",
    "    if element in ip_addresses:\n",
    "        ip_addresses.remove(element)\n",
    "\n",
    "# Display `ip_addresses` after the removal process\n",
    "\n",
    "print(ip_addresses)"
   ]
  },
  {
   "cell_type": "markdown",
   "metadata": {
    "id": "-mcSxgKsYZos"
   },
   "source": [
    "## Task 7\n",
    "In this final task, there are three operating systems: OS 1, OS 2, and OS 3. Each operating system needs a security patch by a specific date. The patch date for OS 1 is `\"March 1st\"`, the patch date for OS 2 is `\"April 1st\"`, and the patch date for OS 3 is `\"May 1st\"`. \n",
    "\n",
    "The following code stores one of these operating systems in a variable named `system`. Then, it uses conditionals to output the patch date for this operating system. \n",
    "\n",
    "However, this code has logic errors. Your goal is to assign the `system` variable to different values, run the code to examine the output, identify the error, and fix it."
   ]
  },
  {
   "cell_type": "code",
   "execution_count": 14,
   "metadata": {
    "id": "E58SBhIZCbuH"
   },
   "outputs": [
    {
     "name": "stdout",
     "output_type": "stream",
     "text": [
      "Patch date: March 1st\n"
     ]
    }
   ],
   "source": [
    "# Assign `system` to a specific operating system as a string\n",
    "\n",
    "system = \"OS 2\"\n",
    "\n",
    "# Assign `patch_schedule` to a list of patch dates in order of operating system\n",
    "\n",
    "patch_schedule = [\"March 1st\", \"April 1st\", \"May 1st\"]\n",
    "\n",
    "# Conditional statement that checks which operating system is stored in `system` and displays a message showing the corresponding patch date \n",
    "\n",
    "if system == \"OS 1\":\n",
    "    print(\"Patch date:\", patch_schedule[2])\n",
    "\n",
    "elif system == \"OS 2\":\n",
    "    print(\"Patch date:\", patch_schedule[0])\n",
    "\n",
    "elif system == \"OS 3\":\n",
    "    print(\"Patch date:\", patch_schedule[2])"
   ]
  }
 ],
 "metadata": {
  "colab": {
   "provenance": [
    {
     "file_id": "1lZ-gaTtJDv2b8Sz6qrWl2bv0P36gvZj0",
     "timestamp": 1667952726076
    }
   ]
  },
  "kernelspec": {
   "display_name": "Python 3",
   "language": "python",
   "name": "python3"
  },
  "language_info": {
   "codemirror_mode": {
    "name": "ipython",
    "version": 3
   },
   "file_extension": ".py",
   "mimetype": "text/x-python",
   "name": "python",
   "nbconvert_exporter": "python",
   "pygments_lexer": "ipython3",
   "version": "3.7.6"
  }
 },
 "nbformat": 4,
 "nbformat_minor": 1
}
