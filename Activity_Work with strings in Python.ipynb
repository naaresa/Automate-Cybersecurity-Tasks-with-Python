{
 "cells": [
  {
   "cell_type": "markdown",
   "metadata": {
    "id": "5e2a85c3-4d7c-43c0-b9dd-ef7af16eb73d"
   },
   "source": [
    "# Activity: Work with strings in Python"
   ]
  },
  {
   "cell_type": "markdown",
   "metadata": {
    "id": "07edb7a1-c2cb-49cb-94e6-886268e48715"
   },
   "source": [
    "## Introduction\n",
    "\n",
    "Security analysts work with a lot of string data. For example, some security analysts work on creating and updating IDs such as employee IDs and device IDs, which are commonly represented as strings. As another example, certain network activity will be stored as string data. Becoming comfortable working with strings in Python is essential for the work of a security analyst.\n",
    "\n",
    "In this lab, you'll practice creating Python code and working with strings. You'll work with an employee ID, a device ID, and a URL, all represented as string data."
   ]
  },
  {
   "cell_type": "markdown",
   "metadata": {
    "id": "bM8zStFIWIkI"
   },
   "source": [
    "<details><summary><h2>Tips for completing this lab</h2></summary>\n",
    "\n",
    "As you navigate this lab, keep the following tips in mind:\n",
    "\n",
    "- `### YOUR CODE HERE ###` indicates where you should write code. Be sure to replace that with your own code before running the code cell.\n",
    "- Feel free to open the hints for additional guidance as you work on each task. \n",
    "- To enter your answer to a question, double-click the markdown cell to edit. Be sure to replace the \"[Double-click to enter your responses here.]\" with your own answer.\n",
    "- You can save your work manually by clicking File and then Save in the menu bar at the top of the notebook. \n",
    "- You can download your work locally by clicking File and then Download and then specifying your preferred file format in the menu bar at the top of the notebook. \n",
    "</details>"
   ]
  },
  {
   "cell_type": "markdown",
   "metadata": {
    "id": "vrD-eN3FVY65"
   },
   "source": [
    "## Scenario\n",
    "\n",
    "You're working as a security analyst, and you are responsible for writing programs in Python to automate updating employee IDs, extracting characters from a device ID, and extracting components from a URL."
   ]
  },
  {
   "cell_type": "markdown",
   "metadata": {
    "id": "zSti7mdls5Ht"
   },
   "source": [
    "## Task 1\n",
    "\n",
    "In your organization, employee IDs are currently either four digits or five digits in length. In this task, you're given a four-digit numeric employee ID stored in a variable called `employee_id`. Convert this to a string format and store the result in the same variable. Later, you'll update this employee ID string so that it complies with a new standardized format.\n",
    "\n",
    "Complete the following code. Be sure to replace the `### YOUR CODE HERE ###` with your own code before you run the following cell."
   ]
  },
  {
   "cell_type": "code",
   "execution_count": 1,
   "metadata": {
    "id": "G2SllNnuzI8T"
   },
   "outputs": [
    {
     "name": "stdout",
     "output_type": "stream",
     "text": [
      "<class 'int'>\n",
      "<class 'str'>\n"
     ]
    }
   ],
   "source": [
    "# Assign `employee_id` to a four digit number as an initial value\n",
    "\n",
    "employee_id = 4186\n",
    "\n",
    "# Display the data type of `employee_id`\n",
    "\n",
    "print(type(employee_id))\n",
    "\n",
    "# Reassign `employee_id` to the same value but in the form of a string\n",
    "\n",
    "employee_id = str(4186)\n",
    "\n",
    "# Display the data type of `employee_id` now\n",
    "\n",
    "print(type(employee_id))\n"
   ]
  },
  {
   "cell_type": "markdown",
   "metadata": {
    "id": "jx7y7YTk1Up1"
   },
   "source": [
    "## Task 2\n",
    "\n",
    "Imagine that you have just been informed of a new criteria for employee IDs. They must all be five digits long for standardization purposes.\n",
    "\n",
    "In this task, you will write a conditional statement that displays a message if the length of the employee ID is less than five digits. \n",
    "\n",
    "Be sure to replace the `### YOUR CODE HERE ###` with your own code before you run the following cell.\n"
   ]
  },
  {
   "cell_type": "code",
   "execution_count": 7,
   "metadata": {
    "id": "XMiKlqT-4Oxr"
   },
   "outputs": [
    {
     "name": "stdout",
     "output_type": "stream",
     "text": [
      "This employee ID has less than five digits. It does not meet length requirements.\n"
     ]
    }
   ],
   "source": [
    "# Assign `employee_id` to a four digit number as an initial value\n",
    "\n",
    "employee_id = 4186\n",
    "\n",
    "# Reassign `employee_id` to the same value but in the form of a string\n",
    "\n",
    "employee_id = str(employee_id)\n",
    "\n",
    "# Conditional statement that displays a message if the length of `employee_id` is less than five digits\n",
    "\n",
    "if len(employee_id) < 5:\n",
    "    print(\"This employee ID has less than five digits. It does not meet length requirements.\")\n",
    "    "
   ]
  },
  {
   "cell_type": "markdown",
   "metadata": {
    "id": "kSAu5xoIQsT3"
   },
   "source": [
    "## Task 3\n",
    "\n",
    "In this task, you'll build upon the previous code. If an employee ID is only four digits, you'll use concatenation to create a five-digit employee ID number.\n",
    "\n",
    "Concatenation is a process that allows you to merge strings together. The addition operator (`+`) in Python allows you to concatenate two strings.\n",
    "\n",
    "Write an `if` statement that evaluates whether the length of `employee_id` is less than `5`. When the condition evaluates to `True`, reassign `employee_id` by concatenating `\"E\"` in front of the four-digit employee ID to create a five character employee ID. Then, display `employee_id` again. Be sure to replace each `### YOUR CODE HERE ###` with your own code before you run the following cell."
   ]
  },
  {
   "cell_type": "code",
   "execution_count": 1,
   "metadata": {
    "id": "Io77ostT6xWS"
   },
   "outputs": [
    {
     "name": "stdout",
     "output_type": "stream",
     "text": [
      "4186\n",
      "E4186\n"
     ]
    }
   ],
   "source": [
    "# Assign `employee_id` to a four digit number as an initial value\n",
    "\n",
    "employee_id = 4186\n",
    "\n",
    "# Reassign `employee_id` to the same value but in the form of a string\n",
    "\n",
    "employee_id = str(employee_id)\n",
    "\n",
    "# Display the `employee_id` as it currently stands\n",
    "\n",
    "print(employee_id)\n",
    "\n",
    "# Conditional statement that updates the `employee_id` if its length is less than 5 digits\n",
    "\n",
    "if len(employee_id) < 5:\n",
    "    employee_id = \"E\" + employee_id \n",
    "    \n",
    "# Display the `employee_id` after the update\n",
    "    \n",
    "print(employee_id)\n"
   ]
  },
  {
   "cell_type": "markdown",
   "metadata": {
    "id": "I5Kn8z-kvuBr"
   },
   "source": [
    "## Task 4\n",
    "\n",
    "Now you'll move on to the next part of your task. Imagine that the characters in a device ID convey technical information about the device. You'll need to extract characters in specific positions from the device ID. Start off by extracting the fourth character.  \n",
    "\n",
    "The variable `device_id` represents a device ID containing alphanumeric characters; it's already stored as a string. \n",
    "\n",
    "Be sure to replace the `### YOUR CODE HERE ###` with your own code before you run the following cell."
   ]
  },
  {
   "cell_type": "code",
   "execution_count": 13,
   "metadata": {
    "id": "L8L4YxUR_vfe"
   },
   "outputs": [
    {
     "name": "stdout",
     "output_type": "stream",
     "text": [
      "2\n"
     ]
    }
   ],
   "source": [
    "# Assign `device_id` to a string that contains alphanumeric characters\n",
    "\n",
    "device_id = \"r262c36\"\n",
    "\n",
    "# Extract the fourth character in `device_id` and display it\n",
    "\n",
    "print(device_id[3])\n",
    "      "
   ]
  },
  {
   "cell_type": "markdown",
   "metadata": {
    "id": "xqO7XbHeFpig"
   },
   "source": [
    "## Task 5\n",
    "Now you will also need to extract the first through the third characters in the device ID. So take a slice of the device ID. You can achieve this using bracket notation in Python. Then, display the slice to examine the result.\n",
    "\n",
    "Be sure to replace the `### YOUR CODE HERE ###` with your own code before you run the following cell."
   ]
  },
  {
   "cell_type": "code",
   "execution_count": 21,
   "metadata": {
    "id": "qZ-1BzTiBRrC"
   },
   "outputs": [
    {
     "name": "stdout",
     "output_type": "stream",
     "text": [
      "r26\n"
     ]
    }
   ],
   "source": [
    "# Assign `device_id` to a string that contains alphanumeric characters\n",
    "\n",
    "device_id = \"r262c36\"\n",
    "\n",
    "# Extract the first through the third characters in `device_id` and display the result\n",
    "\n",
    "print(device_id[0:3])\n",
    "      "
   ]
  },
  {
   "cell_type": "markdown",
   "metadata": {
    "id": "ofuRLadDKra6"
   },
   "source": [
    "## Task 6\n",
    "You'll now proceed to the last part of your task. This involves extracting components of a URL.\n",
    "\n",
    "You'll work with string indices to display various components of a URL that's stored in the URL variable. First, you'll extract and display the protocol of the URL and the `://` characters that follow it using string slicing. Consider that the protocol is in the secure format of `https` when determining the indices for your slice.\n",
    "\n",
    "Be sure to replace the `### YOUR CODE HERE ###` with your own code before you run the following cell."
   ]
  },
  {
   "cell_type": "code",
   "execution_count": 22,
   "metadata": {
    "id": "HkSYpFWPGbw0"
   },
   "outputs": [
    {
     "name": "stdout",
     "output_type": "stream",
     "text": [
      "https://\n"
     ]
    }
   ],
   "source": [
    "# Assign `url` to a specific URL\n",
    "\n",
    "url = \"https://exampleURL1.com\"\n",
    "\n",
    "# Extract the protocol of `url` along with the syntax following it, display the result\n",
    "\n",
    "print(url[0:8])\n"
   ]
  },
  {
   "cell_type": "markdown",
   "metadata": {
    "id": "ESKyCxglOUy7"
   },
   "source": [
    "## Task 7\n",
    "\n",
    "Later in this lab, you'll extract the domain extension. To prepare for this, use the `.index()` method to identify the index where the domain extension `.com` is located in the given URL.\n",
    "\n",
    "Be sure to replace the `### YOUR CODE HERE ###` with your own code before you run the following cell."
   ]
  },
  {
   "cell_type": "code",
   "execution_count": 27,
   "metadata": {
    "id": "ryYFvPg3Li2P"
   },
   "outputs": [
    {
     "name": "stdout",
     "output_type": "stream",
     "text": [
      "19\n"
     ]
    }
   ],
   "source": [
    "# Assign `url` to a specific URL\n",
    "\n",
    "url = \"https://exampleURL1.com\"\n",
    "\n",
    "# Display the index where the domain extension \".com\" is located in `url`\n",
    "\n",
    "print(url.index(\".com\"))\n",
    "    "
   ]
  },
  {
   "cell_type": "markdown",
   "metadata": {
    "id": "QE2QVrWw9xDF"
   },
   "source": [
    "## Task 8\n",
    "It's a good idea to save important data in variables when programming. This allows for quick and easy tracking and reuse of information. \n",
    "\n",
    "Store the output of the `.index()` method in a variable called `ind`, which is short for index. This index represents the position where the domain extension `\".com\"` starts in the `url`. Be sure to replace the `### YOUR CODE HERE ###` with your own code before you run the following cell. Note that running this cell will not produce an output."
   ]
  },
  {
   "cell_type": "code",
   "execution_count": 31,
   "metadata": {
    "id": "WAJvwu4UT0HC"
   },
   "outputs": [],
   "source": [
    "# Assign `url` to a specific URL\n",
    "\n",
    "url = \"https://exampleURL1.com\"\n",
    "\n",
    "# Assign `ind` to the output of applying `.index()` to `url` in order to extract the starting index of \".com\" in `url` \n",
    "\n",
    "ind = url.index(\".com\")\n"
   ]
  },
  {
   "cell_type": "markdown",
   "metadata": {
    "id": "x3alBA-B_0CX"
   },
   "source": [
    "## Task 9\n",
    "You can use string slicing to also extract the domain extension of a URL. To do so, you can create a slice. The starting index should be the `ind` variable. This contains the index where the domain extension begins. The ending index should be `ind + 4` (since `\".com\"` is four characters long). Sometimes, like in this situation, it's easier to express the ending index in relation to the starting index. Examine the following code, run it as is, and observe the output."
   ]
  },
  {
   "cell_type": "code",
   "execution_count": 30,
   "metadata": {
    "id": "B05TSVrLMJDU"
   },
   "outputs": [
    {
     "name": "stdout",
     "output_type": "stream",
     "text": [
      ".com\n"
     ]
    }
   ],
   "source": [
    "# Assign `url` to a specific URL\n",
    "\n",
    "url = \"https://exampleURL1.com\"\n",
    "\n",
    "# Assign `ind` to the output of applying `.index()` to `url` in order to extract the starting index of \".com\" in `url` \n",
    "\n",
    "ind = url.index(\".com\")\n",
    "\n",
    "# Extract the domain extension in `url` and display it\n",
    "\n",
    "print(url[ind:ind+4])\n"
   ]
  },
  {
   "cell_type": "markdown",
   "metadata": {
    "id": "yl43AcPzBc_7"
   },
   "source": [
    "## Task 10\n",
    "Finally, extract the website name from the given URL using string slicing and the `ind` variable that you defined earlier. In the given URL, the website name is `\"exampleURL1\"`. Be sure to replace the `### YOUR CODE HERE ###` with your own code before you run the following cell."
   ]
  },
  {
   "cell_type": "code",
   "execution_count": 34,
   "metadata": {
    "id": "o0ZD8WAeQzPE"
   },
   "outputs": [
    {
     "name": "stdout",
     "output_type": "stream",
     "text": [
      "exampleURL1\n"
     ]
    }
   ],
   "source": [
    "# Assign `url` to a specific URL\n",
    "\n",
    "url = \"https://exampleURL1.com\"\n",
    "\n",
    "# Assign `ind` to the output of applying `.index()` to `url` in order to extract the starting index of \".com\" in `url` \n",
    "\n",
    "ind = url.index(\".com\")\n",
    "\n",
    "# Extract the website name in `url` and display it\n",
    "\n",
    "print(url[8:ind])\n",
    "    "
   ]
  }
 ],
 "metadata": {
  "colab": {
   "provenance": [
    {
     "file_id": "1E8fUdfFmtwFILyLWHVCUDkwcYAwQ9BZf",
     "timestamp": 1666706453836
    }
   ]
  },
  "kernelspec": {
   "display_name": "Python 3",
   "language": "python",
   "name": "python3"
  },
  "language_info": {
   "codemirror_mode": {
    "name": "ipython",
    "version": 3
   },
   "file_extension": ".py",
   "mimetype": "text/x-python",
   "name": "python",
   "nbconvert_exporter": "python",
   "pygments_lexer": "ipython3",
   "version": "3.7.6"
  }
 },
 "nbformat": 4,
 "nbformat_minor": 1
}
