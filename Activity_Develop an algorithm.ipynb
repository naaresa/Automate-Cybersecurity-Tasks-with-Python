{
 "cells": [
  {
   "cell_type": "markdown",
   "metadata": {
    "id": "FpdoHsRVBxVN"
   },
   "source": [
    "# Activity: Develop an algorithm"
   ]
  },
  {
   "cell_type": "markdown",
   "metadata": {
    "id": "KxK7oitJd3wz"
   },
   "source": [
    "## Introduction\n",
    "\n",
    "An algorithm is a set of steps that can be used to solve a problem. Security analysts develop algorithms to provide the solutions that they need for their work. For example, an analyst may work with users who bring them devices. The analyst may need an algorithm that first checks if a user is approved to access the system and then checks if the device that they have brought is the one assigned to them.\n",
    "\n",
    "In this lab, you'll develop an algorithm in Python that automates this process."
   ]
  },
  {
   "cell_type": "markdown",
   "metadata": {
    "id": "eW4pA4LsC-vb"
   },
   "source": [
    "<details><summary><h2>Tips for completing this lab</h2></summary>\n",
    "\n",
    "As you navigate this lab, keep the following tips in mind:\n",
    "\n",
    "- `### YOUR CODE HERE ###` indicates where you should write code. Be sure to replace this with your own code before running the code cell.\n",
    "- Feel free to open the hints for additional guidance as you work on each task.\n",
    "- To enter your answer to a question, double-click the markdown cell to edit. Be sure to replace the \"[Double-click to enter your responses here.]\" with your own answer.\n",
    "- You can save your work manually by clicking File and then Save in the menu bar at the top of the notebook.\n",
    "- You can download your work locally by clicking File and then Download and then specifying your preferred file format in the menu bar at the top of the notebook.\n",
    "</details>"
   ]
  },
  {
   "cell_type": "markdown",
   "metadata": {
    "id": "-btSB292gVHU"
   },
   "source": [
    "## Scenario\n",
    "\n",
    "In this lab, you're working as a security analyst and you're responsible for developing an algorithm that connects users to their assigned devices. You'll write code that indicates if a user is approved on the system and has brought their assigned device to the security team.\n"
   ]
  },
  {
   "cell_type": "markdown",
   "metadata": {
    "id": "-KY1VeP9CfM-"
   },
   "source": [
    "## Task 1\n",
    "You'll work with a list of approved usernames along with a list of the approved devices assigned to these users. The elements of the two lists are synchronized. In other words, the user at index `0` in `approved_users` uses the device at index `0` in `approved_devices`. Later, this will allow you to verify if the username and device ID entered by a user correspond to each other.\n",
    "\n",
    "First, to explore how indices in lists work, run the following code cell as is and observe the output. Then, replace each `0` with another index and run the cell to observe what happens."
   ]
  },
  {
   "cell_type": "code",
   "execution_count": 1,
   "metadata": {
    "id": "Cwvk-6Wn_DWo"
   },
   "outputs": [
    {
     "name": "stdout",
     "output_type": "stream",
     "text": [
      "elarson\n",
      "8rp2k75\n"
     ]
    }
   ],
   "source": [
    "# Assign `approved_users` to a list of approved usernames\n",
    "\n",
    "approved_users = [\"elarson\", \"bmoreno\", \"tshah\", \"sgilmore\", \"eraab\"]\n",
    "\n",
    "# Assign `approved_devices` to a list of device IDs that correspond to the usernames in `approved_users`\n",
    "\n",
    "approved_devices = [\"8rp2k75\", \"hl0s5o1\", \"2ye3lzg\", \"4n482ts\", \"a307vir\"]\n",
    "\n",
    "# Display the element at the specified index in `approved_users`\n",
    "\n",
    "print(approved_users[0])\n",
    "\n",
    "# Display the element at the specified index in `approved_devices`\n",
    "\n",
    "print(approved_devices[0])\n"
   ]
  },
  {
   "cell_type": "markdown",
   "metadata": {
    "id": "OE_fiWN4OjWJ"
   },
   "source": [
    "## Task 2\n",
    "There's a new employee joining the organization, and they need to be provided with a username and device ID. In the following code cell, you are given a username and device ID of this new user, stored in the variables `new_user` and `new_device`, respectively. Use the `.append()` method to add these variables to the `approved_users` and `approved_devices` respectively. Afterwards, display the `approved_users` and `approved_devices` variables to confirm the added information. Be sure to replace each `### YOUR CODE HERE ###` with your own code before you run the following cell."
   ]
  },
  {
   "cell_type": "code",
   "execution_count": 2,
   "metadata": {
    "id": "DqMW7dHBUffd"
   },
   "outputs": [
    {
     "name": "stdout",
     "output_type": "stream",
     "text": [
      "['elarson', 'bmoreno', 'tshah', 'sgilmore', 'eraab', 'gesparza']\n",
      "['8rp2k75', 'hl0s5o1', '2ye3lzg', '4n482ts', 'a307vir', '3rcv4w6']\n"
     ]
    }
   ],
   "source": [
    "# Assign `approved_users` to a list of approved usernames\n",
    "\n",
    "approved_users = [\"elarson\", \"bmoreno\", \"tshah\", \"sgilmore\", \"eraab\"]\n",
    "\n",
    "# Assign `approved_devices` to a list of device IDs that correspond to the usernames in `approved_users`\n",
    "\n",
    "approved_devices = [\"8rp2k75\", \"hl0s5o1\", \"2ye3lzg\", \"4n482ts\", \"a307vir\"]\n",
    "\n",
    "# Assign `new_user` to the username of a new approved user\n",
    "\n",
    "new_user = \"gesparza\"\n",
    "\n",
    "# Assign `new_device` to the device ID of the new approved user\n",
    "\n",
    "new_device = \"3rcv4w6\"\n",
    "\n",
    "# Add that user's username and device ID to `approved_users` and `approved_devices` respectively\n",
    "\n",
    "approved_users.append(new_user)\n",
    "approved_devices.append(new_device)\n",
    "\n",
    "# Display the contents of `approved_users`\n",
    "\n",
    "print(approved_users)\n",
    "\n",
    "# Diplay the contents of `approved_devices`\n",
    "\n",
    "print(approved_devices)\n"
   ]
  },
  {
   "cell_type": "markdown",
   "metadata": {
    "id": "nDgdKRQ5TzdV"
   },
   "source": [
    "## Task 3\n",
    "An employee has left the team and should no longer have access to the system. In the following code cell, you are given the username and device ID of the user to be removed, stored in the variables `removed_user` and `removed_device` respectively.  Use the `.remove()` method to remove each of these elements from the corresponding list. Afterwards, display both the `approved_users` and the `approved_devices` variables to view the removed users. Run the code and observe the results. Be sure to replace each `### YOUR CODE HERE ###` with your own code before you run the following cell.\n"
   ]
  },
  {
   "cell_type": "code",
   "execution_count": 3,
   "metadata": {
    "id": "2oPgNiC0hT_T"
   },
   "outputs": [
    {
     "name": "stdout",
     "output_type": "stream",
     "text": [
      "['elarson', 'bmoreno', 'sgilmore', 'eraab', 'gesparza']\n",
      "['8rp2k75', 'hl0s5o1', '4n482ts', 'a307vir', '3rcv4w6']\n"
     ]
    }
   ],
   "source": [
    "# Assign `approved_users` to a list of approved usernames\n",
    "\n",
    "approved_users = [\"elarson\", \"bmoreno\", \"tshah\", \"sgilmore\", \"eraab\", \"gesparza\"]\n",
    "\n",
    "# Assign `approved_devices` to a list of device IDs that correspond to the usernames in `approved_users`\n",
    "\n",
    "approved_devices = [\"8rp2k75\", \"hl0s5o1\", \"2ye3lzg\", \"4n482ts\", \"a307vir\", \"3rcv4w6\"]\n",
    "\n",
    "# Assign `removed_user` to the username of the employee who has left the team\n",
    "\n",
    "removed_user = \"tshah\"\n",
    "\n",
    "# Assign `removed_device` to the device ID of the employee who has left the team\n",
    "\n",
    "removed_device = \"2ye3lzg\"\n",
    "\n",
    "# Remove that employee's username and device ID from `approved_users` and `approved_devices` respectively\n",
    "\n",
    "approved_users.remove(removed_user)\n",
    "approved_devices.remove(removed_device)\n",
    "\n",
    "# Display `approved_users`\n",
    "\n",
    "print(approved_users)\n",
    "\n",
    "# Diplay `approved_devices`\n",
    "\n",
    "print(approved_devices)\n"
   ]
  },
  {
   "cell_type": "markdown",
   "metadata": {
    "id": "aLiBPEERhxdC"
   },
   "source": [
    "## Task 4\n",
    "\n",
    "As part of verifying a user's identity in the system, you'll need to check if the user is one of the approved users. Write a conditional statement that verifies if a given username is an element of the list of approved usernames. If it is, display `\"The user ______ is approved to access the system.\"`. Otherwise, display `\"The user ______ is not approved to access the system.\"`. Be sure to replace each `### YOUR CODE HERE ###` with your own code before you run the following cell."
   ]
  },
  {
   "cell_type": "code",
   "execution_count": 4,
   "metadata": {
    "id": "ybZt-6n0lWNV"
   },
   "outputs": [
    {
     "name": "stdout",
     "output_type": "stream",
     "text": [
      "The username sgilmore is approved to access the system.\n"
     ]
    }
   ],
   "source": [
    "# Assign `approved_users` to a list of approved usernames\n",
    "\n",
    "approved_users = [\"elarson\", \"bmoreno\", \"sgilmore\", \"eraab\", \"gesparza\"]\n",
    "\n",
    "# Assign `approved_devices` to a list of device IDs that correspond to the usernames in `approved_users`\n",
    "\n",
    "approved_devices = [\"8rp2k75\", \"hl0s5o1\", \"4n482ts\", \"a307vir\", \"3rcv4w6\"]\n",
    "\n",
    "# Assign `username` to a username\n",
    "\n",
    "username = \"sgilmore\"\n",
    "\n",
    "# Conditional statement\n",
    "# If `username` belongs to `approved_users`, then display \"The user ______ is approved to access the system.\"\n",
    "# Otherwise display \"The user ______ is not approved to access the system.\"\n",
    "if username in approved_users:\n",
    "    print(\"The username\", username, \"is approved to access the system.\")\n",
    "else:\n",
    "    print(\"The username\", username, \"is not approved to access the system.\")\n",
    "    "
   ]
  },
  {
   "cell_type": "markdown",
   "metadata": {
    "id": "i-0xllOwdl8r"
   },
   "source": [
    "## Task 5\n",
    "The next part of the algorithm uses the `.index()` method to find the index of `username` in the `approved_users` and store that index in a variable named `ind`.\n",
    "\n",
    "When used on a list, the `.index()` method will return the position of the given value in the list.\n",
    "\n",
    "Add a statement to display `ind` in the following code cell to explore the value it contains. Be sure to replace the `### YOUR CODE HERE ###` with your own code before you run the following cell."
   ]
  },
  {
   "cell_type": "code",
   "execution_count": 5,
   "metadata": {
    "id": "f8C1FaF0k2OG"
   },
   "outputs": [
    {
     "name": "stdout",
     "output_type": "stream",
     "text": [
      "2\n"
     ]
    }
   ],
   "source": [
    "# Assign `approved_users` to a list of approved usernames\n",
    "\n",
    "approved_users = [\"elarson\", \"bmoreno\", \"sgilmore\", \"eraab\", \"gesparza\"]\n",
    "\n",
    "# Assign `approved_devices` to a list of device IDs that correspond to the usernames in `approved_users`\n",
    "\n",
    "approved_devices = [\"8rp2k75\", \"hl0s5o1\", \"4n482ts\", \"a307vir\", \"3rcv4w6\"]\n",
    "\n",
    "# Assign `username` to a username\n",
    "\n",
    "username = \"sgilmore\"\n",
    "\n",
    "# Assign `ind` to the index of `username` in `approved_users`\n",
    "\n",
    "ind = approved_users.index(username)\n",
    "\n",
    "# Display the value of `ind`\n",
    "\n",
    "print(ind)\n"
   ]
  },
  {
   "cell_type": "markdown",
   "metadata": {
    "id": "uWhHEIAkk4Gt"
   },
   "source": [
    "## Task 6\n",
    "This task will allow you to build your understanding of list operations for the algorithm that you'll eventually build. It will demonstrate how you can find an index in one list and then use this index to display connected information in another list. First, use the `.index()` method again to find the index of `username` in the `approved_users` and store that in a variable named `ind`. Then, connect `ind` to the `approved_devices` and display the device ID located at the index `ind`. Afterwards, run the cell to observe the result. Be sure to replace each `### YOUR CODE HERE ###` with your own code before you run the following cell."
   ]
  },
  {
   "cell_type": "code",
   "execution_count": 6,
   "metadata": {
    "id": "p3OoQe894EM9"
   },
   "outputs": [
    {
     "name": "stdout",
     "output_type": "stream",
     "text": [
      "4n482ts\n"
     ]
    }
   ],
   "source": [
    "# Assign `approved_users` to a list of approved usernames\n",
    "\n",
    "approved_users = [\"elarson\", \"bmoreno\", \"sgilmore\", \"eraab\", \"gesparza\"]\n",
    "\n",
    "# Assign `approved_devices` to a list of device IDs that correspond to the usernames in `approved_users`\n",
    "\n",
    "approved_devices = [\"8rp2k75\", \"hl0s5o1\", \"4n482ts\", \"a307vir\", \"3rcv4w6\"]\n",
    "\n",
    "# Assign `username` to a username\n",
    "\n",
    "username = \"sgilmore\"\n",
    "\n",
    "# Assign `ind` to the index of `username` in `approved_users`\n",
    "\n",
    "ind = approved_users.index(username)\n",
    "\n",
    "# Display the device ID at the index that matches the value of `ind` in `approved_devices`\n",
    "\n",
    "print(approved_devices[ind])\n",
    "    "
   ]
  },
  {
   "cell_type": "markdown",
   "metadata": {
    "id": "Z6p0xuJ34MUf"
   },
   "source": [
    "## Task 7\n",
    "Your next step in creating the algorithm is to determine if a username and device ID correspond. To do this, write a conditional that checks if the `username` is an element of the `approved_devices` and if the `device_id` stored at the same index as `username` matches the `device_id` entered. You'll use the logical operator `and` to connect the two conditions. When both conditions evaluate to `True`, display a message that the username is approved and another message that the user has their assigned device. Be sure to replace each `### YOUR CODE HERE ###` with your own code before you run the following cell."
   ]
  },
  {
   "cell_type": "code",
   "execution_count": 9,
   "metadata": {
    "id": "6cPaGUInGhiE"
   },
   "outputs": [
    {
     "name": "stdout",
     "output_type": "stream",
     "text": [
      "The username sgilmore is approved to access the system.\n",
      "4n482ts is the assigned device for sgilmore\n"
     ]
    }
   ],
   "source": [
    "# Assign `approved_users` to a list of approved usernames\n",
    "\n",
    "approved_users = [\"elarson\", \"bmoreno\", \"sgilmore\", \"eraab\", \"gesparza\"]\n",
    "\n",
    "# Assign `approved_devices` to a list of device IDs that correspond to the usernames in `approved_users`\n",
    "\n",
    "approved_devices = [\"8rp2k75\", \"hl0s5o1\", \"4n482ts\", \"a307vir\", \"3rcv4w6\"]\n",
    "\n",
    "# Assign `username` to a username\n",
    "\n",
    "username = \"sgilmore\"\n",
    "\n",
    "# Assign `device_id` to a device ID\n",
    "\n",
    "device_id = \"4n482ts\"\n",
    "\n",
    "# Assign `ind` to the index of `username` in `approved_users`\n",
    "\n",
    "ind = approved_users.index(username)\n",
    "\n",
    "# Conditional statement\n",
    "# If `username` belongs to `approved_users`, and if the device ID at `ind` in `approved_devices` matches `device_id`,\n",
    "# then display a message that the username is approved,\n",
    "# followed by a message that the user has the correct device\n",
    "\n",
    "if username in approved_users and device_id in approved_devices:\n",
    "    print(\"The username\", username, \"is approved to access the system.\")\n",
    "    print(device_id, \"is the assigned device for\", username)\n"
   ]
  },
  {
   "cell_type": "markdown",
   "metadata": {
    "id": "9lFPzCnyHAPg"
   },
   "source": [
    "## Task 8\n",
    "It would also be helpful for users to receive messages when their username is not approved or their device ID is incorrect.\n",
    "\n",
    "Add to the code by writing an `elif` statement. This `elif` statement should run when the `username` is part of the `approved_users` but the `device_id` doesn't match the corresponding device ID in the `approved_devices`. The statement should also display two messages conveying that information.\n",
    "\n",
    "Be sure to replace each `### YOUR CODE HERE ###` with your own code before you run the following cell.\n",
    "\n",
    "(After you run the code once with a `device_id` of `\"4n482ts\"`, you might want to explore what happens if you assign a different value to `device_id`.)"
   ]
  },
  {
   "cell_type": "code",
   "execution_count": 12,
   "metadata": {
    "id": "DlvfIxLIFI9H"
   },
   "outputs": [
    {
     "name": "stdout",
     "output_type": "stream",
     "text": [
      "The user sgilmore is approved to access the system.\n",
      "4n482ts is the assigned device for sgilmore\n"
     ]
    }
   ],
   "source": [
    "# Assign `approved_users` to a list of approved usernames\n",
    "\n",
    "approved_users = [\"elarson\", \"bmoreno\", \"sgilmore\", \"eraab\", \"gesparza\"]\n",
    "\n",
    "# Assign `approved_devices` to a list of device IDs that correspond to the usernames in `approved_users`\n",
    "\n",
    "approved_devices = [\"8rp2k75\", \"hl0s5o1\", \"4n482ts\", \"a307vir\", \"3rcv4w6\"]\n",
    "\n",
    "# Assign `username` to a username\n",
    "\n",
    "username = \"sgilmore\"\n",
    "\n",
    "# Assign `device_id` to a device ID\n",
    "\n",
    "device_id = \"4n482ts\"\n",
    "\n",
    "# Assign `ind` to the index of `username` in `approved_users`\n",
    "\n",
    "ind = approved_users.index(username)\n",
    "\n",
    "# If statement\n",
    "# If `username` belongs to `approved_users`, and if the element at `ind` in `approved_devices` matches `device_id`,\n",
    "# then display a message that the username is approved,\n",
    "# followed by a message that the user has the correct device\n",
    "\n",
    "if username in approved_users and device_id == approved_devices[ind]:\n",
    "    print(\"The user\", username, \"is approved to access the system.\")\n",
    "    print(device_id, \"is the assigned device for\", username)\n",
    "\n",
    "# Elif statement\n",
    "# Handles the case when `username` belongs to `approved_users` but element at `ind` in `approved_devices` does not match `device_id`,\n",
    "# and displays two messages accordingly\n",
    "\n",
    "elif username in approved_users and device_id != approved_devices[ind]:\n",
    "    print(\"The user\", username, \"is approved to access the system, but\", device_id, \"is not their assigned device.\")\n"
   ]
  },
  {
   "cell_type": "markdown",
   "metadata": {
    "id": "gNmZaLueDnqM"
   },
   "source": [
    "## Task 9\n",
    "In this task, you'll complete your algorithm by developing a function that uses some of the code you've written in earlier tasks. This will automate the login process.\n",
    "\n",
    "There are multiple ways to use conditionals to automate the login process. In the following code, a nested conditional is used to achieve the goals of the algorithm. There is a conditional statement inside of another conditional statement. The outer conditional handles the case when the `username` is approved and the case when `username` is not approved. The inner conditional, which is placed inside the first `if` statement, handles the case when the `username` is approved and the `device_id` is correct, as well as the case when the `username` is approved and the `device_id` is incorrect.\n",
    "\n",
    "To complete this task, you must define a function named `login` that takes in two parameters, `username` and `device_id`. Afterwards, call the function and pass in different username and device ID combinations to experiment and observe the function's behavior. Be sure to replace the `### YOUR CODE HERE ###` with your own code before you run the following cell."
   ]
  },
  {
   "cell_type": "code",
   "execution_count": 14,
   "metadata": {
    "id": "bhcjqvDmkNnw"
   },
   "outputs": [
    {
     "name": "stdout",
     "output_type": "stream",
     "text": [
      "The user elarson is approved to access the system.\n",
      "8rp2k75 is the assigned device for elarson\n",
      "The user eraab is approved to access the system.\n",
      "a307vir is the assigned device for eraab\n",
      "The username naaresa is not approved to access the system.\n"
     ]
    }
   ],
   "source": [
    "# Assign `approved_users` to a list of approved usernames\n",
    "\n",
    "approved_users = [\"elarson\", \"bmoreno\", \"sgilmore\", \"eraab\", \"gesparza\"]\n",
    "\n",
    "# Assign `approved_devices` to a list of device IDs that correspond to the usernames in `approved_users`\n",
    "\n",
    "approved_devices = [\"8rp2k75\", \"hl0s5o1\", \"4n482ts\", \"a307vir\", \"3rcv4w6\"]\n",
    "\n",
    "# Define a function named `login` that takes in two parameters, `username` and `device_id`\n",
    "\n",
    "def login(username, device_id):\n",
    "\n",
    "    # If `username` belongs to `approved_users`,\n",
    "\n",
    "    if username in approved_users:\n",
    "\n",
    "        # then display \"The user ______ is approved to access the system.\",\n",
    "\n",
    "        print(\"The user\", username, \"is approved to access the system.\")\n",
    "\n",
    "        # assign `ind` to the index of `username` in `approved_users`,\n",
    "\n",
    "        ind = approved_users.index(username)\n",
    "\n",
    "        # and execute the following conditional\n",
    "        # If `device_id` matches the element at the index `ind` in `approved_devices`,\n",
    "\n",
    "        if device_id == approved_devices[ind]:\n",
    "\n",
    "          # then display \"______ is the assigned device for ______\"\n",
    "\n",
    "          print(device_id, \"is the assigned device for\", username)\n",
    "\n",
    "        # Otherwise,\n",
    "\n",
    "        else:\n",
    "\n",
    "          # display \"______ is not their assigned device\"\n",
    "\n",
    "          print(device_id, \"is not their assigned device.\")\n",
    "\n",
    "    # Otherwise (part of the outer conditional and handles the case when `username` does not belong to `approved_users`),\n",
    "\n",
    "    else:\n",
    "\n",
    "        # Display \"The user ______ is not approved to access the system.\"\n",
    "\n",
    "        print(\"The username\", username, \"is not approved to access the system.\")\n",
    "\n",
    "# Call the function you just defined to experiment with different username and device_id combinations\n",
    "\n",
    "login(\"elarson\",\"8rp2k75\" )\n",
    "login(\"eraab\", \"a307vir\")\n",
    "login(\"naaresa\", \"h5e7yy\")\n"
   ]
  }
 ],
 "metadata": {
  "colab": {
   "provenance": [
    {
     "file_id": "1KTA84JmoWjf4-1MyXsnnxxX2mlwEZwa7",
     "timestamp": 1667280576202
    }
   ]
  },
  "kernelspec": {
   "display_name": "Python 3",
   "language": "python",
   "name": "python3"
  },
  "language_info": {
   "codemirror_mode": {
    "name": "ipython",
    "version": 3
   },
   "file_extension": ".py",
   "mimetype": "text/x-python",
   "name": "python",
   "nbconvert_exporter": "python",
   "pygments_lexer": "ipython3",
   "version": "3.7.6"
  }
 },
 "nbformat": 4,
 "nbformat_minor": 1
}
